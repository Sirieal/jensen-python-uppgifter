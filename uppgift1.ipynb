{
  "cells": [
    {
      "cell_type": "markdown",
      "metadata": {},
      "source": [
        "<h1 style=\"color: green;\">Strängar</h1>"
      ]
    },
    {
      "cell_type": "markdown",
      "metadata": {},
      "source": [
        "<h3>Uppgift 1A</h3>"
      ]
    },
    {
      "cell_type": "code",
      "execution_count": 4,
      "metadata": {
        "trusted": true
      },
      "outputs": [
        {
          "name": "stdout",
          "output_type": "stream",
          "text": [
            "88\n"
          ]
        }
      ],
      "source": [
        "def count_vowels(input_string):\n",
        "    vowels = \"aeiouyåäöAEIOUYÅÄÖ\"\n",
        "    count = 0\n",
        "    for char in input_string:\n",
        "        count += 1\n",
        "    return count\n",
        "\n",
        "example_string = \"Många konsonanter ger orden en hårdare klang medan många vokaler skapar ett mjukare ljud\"\n",
        "print(count_vowels(example_string))"
      ]
    },
    {
      "cell_type": "markdown",
      "metadata": {},
      "source": [
        "<h3>Uppgift 1B</h3>"
      ]
    },
    {
      "cell_type": "code",
      "execution_count": 6,
      "metadata": {
        "trusted": true
      },
      "outputs": [
        {
          "name": "stdout",
          "output_type": "stream",
          "text": [
            "Mng knsnntr gr rdn n hrdr klng mdn mng vklr skpr tt mjkr ljd\n"
          ]
        }
      ],
      "source": [
        "def remove_vowels(vowels_remove):\n",
        "    vowels = \"aeiouyåäöAEIOUYÅÄÖ\"\n",
        "    result = \"\"\n",
        "    for char in vowels_remove:\n",
        "        if char not in vowels:\n",
        "            result += char\n",
        "    return result\n",
        "xample_string = \"Många konsonanter ger orden en hårdare klang medan många vokaler skapar ett mjukare ljud\"\n",
        "print(remove_vowels(xample_string))"
      ]
    },
    {
      "cell_type": "markdown",
      "metadata": {},
      "source": [
        "<h3>Uppgift 2</h3>"
      ]
    },
    {
      "cell_type": "code",
      "execution_count": 9,
      "metadata": {
        "trusted": true
      },
      "outputs": [
        {
          "name": "stdout",
          "output_type": "stream",
          "text": [
            "Många Konsonanter Ger Orden En Hårdare Klang Medan Många Vokaler Skapar Ett Mjukare Ljud\n"
          ]
        }
      ],
      "source": [
        "def title_case(input_string):\n",
        "    words = input_string.split()\n",
        "    title_cased_words = []\n",
        "\n",
        "    for word in words:\n",
        "        title_cased_word = word.capitalize()\n",
        "        title_cased_words.append(title_cased_word)\n",
        "\n",
        "    result = \" \".join(title_cased_words)\n",
        "    return result\n",
        "\n",
        "xample_string = \"många konsonanter ger orden en hårdare klang medan många vokaler skapar ett mjukare ljud\"\n",
        "print(title_case(xample_string))"
      ]
    },
    {
      "cell_type": "markdown",
      "metadata": {},
      "source": [
        "<h3>Uppgift 3</h3>"
      ]
    },
    {
      "cell_type": "code",
      "execution_count": 10,
      "metadata": {
        "trusted": true
      },
      "outputs": [
        {
          "name": "stdout",
          "output_type": "stream",
          "text": [
            "14\n"
          ]
        }
      ],
      "source": [
        "def count_words(mening):\n",
        "    words = mening.split()\n",
        "    return len(words)\n",
        "xample_mening = \"många konsonanter ger orden en hårdare klang medan många vokaler skapar ett mjukare ljud\"\n",
        "print(count_words(xample_mening))"
      ]
    }
  ],
  "metadata": {
    "kernelspec": {
      "display_name": "Python 3",
      "language": "python",
      "name": "python3"
    },
    "language_info": {
      "codemirror_mode": {
        "name": "ipython",
        "version": 3
      },
      "file_extension": ".py",
      "mimetype": "text/x-python",
      "name": "python",
      "nbconvert_exporter": "python",
      "pygments_lexer": "ipython3",
      "version": "3.12.5"
    }
  },
  "nbformat": 4,
  "nbformat_minor": 4
}
