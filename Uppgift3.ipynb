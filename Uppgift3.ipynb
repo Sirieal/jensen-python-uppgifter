{
 "cells": [
  {
   "cell_type": "markdown",
   "metadata": {},
   "source": [
    "<h1 style=\"color: green;\">Dictionaries<h1>"
   ]
  },
  {
   "cell_type": "markdown",
   "metadata": {},
   "source": [
    "<h3>Uppgift 1<h3>"
   ]
  },
  {
   "cell_type": "code",
   "execution_count": 2,
   "metadata": {},
   "outputs": [
    {
     "name": "stdout",
     "output_type": "stream",
     "text": [
      "Erik har spenderat mest tid på Projekt C med 50 timmar.\n"
     ]
    }
   ],
   "source": [
    "projects = {\n",
    "    \"Projekt A\": {\"Erik\": 25, \"Lina\": 30, \"Tomas\": 20},\n",
    "    \"Projekt B\": {\"Lina\": 35, \"Erik\": 40},\n",
    "    \"Projekt C\": {\"Tomas\": 45, \"Erik\": 50}\n",
    "}\n",
    "\n",
    "max_hour = 0\n",
    "project_highest_hours = \"\"\n",
    "\n",
    "for project, hours in projects.items():\n",
    "    if \"Erik\" in hours and  hours[\"Erik\"] > max_hour:\n",
    "        max_hour = hours[\"Erik\"]\n",
    "        project_highest_hours = project\n",
    "\n",
    "print(f\"Erik har spenderat mest tid på {project_highest_hours} med {max_hour} timmar.\")"
   ]
  },
  {
   "cell_type": "markdown",
   "metadata": {},
   "source": [
    "<h3>Uppgift 2<h3>"
   ]
  },
  {
   "cell_type": "code",
   "execution_count": 1,
   "metadata": {},
   "outputs": [
    {
     "name": "stdout",
     "output_type": "stream",
     "text": [
      "Projekten där Lina har arbetat mer än 30 timmar på:\n",
      "Lina jobbade 35 timmar i Projekt B\n",
      "Lina jobbade 40 timmar i Projekt C\n"
     ]
    }
   ],
   "source": [
    "projects = {\n",
    "    \"Projekt A\": {\"Erik\": 25, \"Lina\": 30, \"Tomas\": 20},\n",
    "    \"Projekt B\": {\"Lina\": 35, \"Erik\": 40},\n",
    "    \"Projekt C\": {\"Tomas\": 45, \"Erik\": 50, \"Lina\": 40}\n",
    "}\n",
    "\n",
    "lina_projects = {}\n",
    "\n",
    "for project, hours in projects.items():\n",
    "    if \"Lina\" in hours and hours[\"Lina\"] > 30:\n",
    "        lina_projects[project] = hours[\"Lina\"]\n",
    "\n",
    "print(\"Projekten där Lina har arbetat mer än 30 timmar på:\")\n",
    "for project, hours in lina_projects.items():\n",
    "    print(f\"Lina jobbade {hours} timmar i {project}\")\n"
   ]
  },
  {
   "cell_type": "code",
   "execution_count": null,
   "metadata": {},
   "outputs": [],
   "source": [
    "\n",
    "\n"
   ]
  }
 ],
 "metadata": {
  "kernelspec": {
   "display_name": "Python 3",
   "language": "python",
   "name": "python3"
  },
  "language_info": {
   "codemirror_mode": {
    "name": "ipython",
    "version": 3
   },
   "file_extension": ".py",
   "mimetype": "text/x-python",
   "name": "python",
   "nbconvert_exporter": "python",
   "pygments_lexer": "ipython3",
   "version": "3.12.5"
  }
 },
 "nbformat": 4,
 "nbformat_minor": 2
}
